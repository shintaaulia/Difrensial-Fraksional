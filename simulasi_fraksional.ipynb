{
  "nbformat": 4,
  "nbformat_minor": 0,
  "metadata": {
    "colab": {
      "provenance": [],
      "authorship_tag": "ABX9TyMzhb/y0tryL8U31E73+87+",
      "include_colab_link": true
    },
    "kernelspec": {
      "name": "python3",
      "display_name": "Python 3"
    },
    "language_info": {
      "name": "python"
    }
  },
  "cells": [
    {
      "cell_type": "markdown",
      "metadata": {
        "id": "view-in-github",
        "colab_type": "text"
      },
      "source": [
        "<a href=\"https://colab.research.google.com/github/shintaaulia/Difrensial-Fraksional/blob/main/simulasi_fraksional.ipynb\" target=\"_parent\"><img src=\"https://colab.research.google.com/assets/colab-badge.svg\" alt=\"Open In Colab\"/></a>"
      ]
    },
    {
      "cell_type": "code",
      "execution_count": 1,
      "metadata": {
        "id": "rBYl8C3Uljb-"
      },
      "outputs": [],
      "source": [
        "import numpy as np\n",
        "import matplotlib.pyplot as plt\n",
        "\n",
        "class Differentiation:\n",
        "    def __init__(self, t, alpha):\n",
        "        self.t = t\n",
        "        self.alpha = alpha\n",
        "\n",
        "    def derivative(self, y):\n",
        "        t = self.t\n",
        "        alpha = self.alpha\n",
        "        h = t[2] - t[1]\n",
        "        dy = [0]*len(y)\n",
        "        dy[1] = 0\n",
        "        y = y[:]\n",
        "        t = t[:]\n",
        "        w = [0]*len(y)\n",
        "        w[1] = 1\n",
        "        for i in range(2,len(t)):\n",
        "            w[i] = w[i-1]*(1-(alpha+1)/float(i-1))\n",
        "        for i in range(2,len(t)):\n",
        "            for j in range(1,i):\n",
        "                for k in xrange(i,0,-1):\n",
        "                    dy[i] += w[j]*y[k]/(h**alpha)\n",
        "        return dy\n",
        "\n",
        "    def plot_func(self, y1, y2):\n",
        "        t = self.t\n",
        "        for k in range(8):\n",
        "            self.alpha += .1\n",
        "            dy1 = self.derivative(y1)\n",
        "            dy2 = self.derivative(y2)\n",
        "            plt.hold(True)\n",
        "            plt.subplot(211).set_title(\"y=x^2\")\n",
        "            plt.plot(t,dy1)\n",
        "            plt.axis([0,10,0,20])\n",
        "            plt.subplot(212).set_title(\"y=x^4\")\n",
        "            plt.plot(t,dy2)\n",
        "            plt.axis([0,10,0,20])\n",
        "        plt.show()"
      ]
    }
  ]
}